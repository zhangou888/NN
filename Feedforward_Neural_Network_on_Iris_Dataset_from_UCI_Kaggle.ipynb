{
  "nbformat": 4,
  "nbformat_minor": 0,
  "metadata": {
    "colab": {
      "provenance": [],
      "authorship_tag": "ABX9TyPkVYxx/SA4/gAB0mF0v6m2",
      "include_colab_link": true
    },
    "kernelspec": {
      "name": "python3",
      "display_name": "Python 3"
    },
    "language_info": {
      "name": "python"
    }
  },
  "cells": [
    {
      "cell_type": "markdown",
      "metadata": {
        "id": "view-in-github",
        "colab_type": "text"
      },
      "source": [
        "<a href=\"https://colab.research.google.com/github/zhangou888/NN/blob/main/Feedforward_Neural_Network_on_Iris_Dataset_from_UCI_Kaggle.ipynb\" target=\"_parent\"><img src=\"https://colab.research.google.com/assets/colab-badge.svg\" alt=\"Open In Colab\"/></a>"
      ]
    },
    {
      "cell_type": "markdown",
      "source": [
        "# PyTorch Example: Feedforward Neural Network on Iris Dataset from UCI/Kaggle\n",
        "This is an entire Iris neural network code with 80/20 split, full training + evaluation + prediction visualization."
      ],
      "metadata": {
        "id": "eh8CfBM8iFwR"
      }
    },
    {
      "cell_type": "code",
      "source": [
        "# Load all libraries\n",
        "## Neural Nets\n",
        "import torch\n",
        "import torch.nn as nn\n",
        "import torch.nn.functional as F\n",
        "import torch.optim as optim\n",
        "\n",
        "## Data Loading/Cleaning\n",
        "import pandas as pd\n",
        "import seaborn as sns\n",
        "\n",
        "# Preprocessing\n",
        "from sklearn.preprocessing import StandardScaler, LabelEncoder\n",
        "\n",
        "# Splitting\n",
        "from sklearn.model_selection import train_test_split\n",
        "\n",
        "# Metrics\n",
        "from sklearn.metrics import confusion_matrix, ConfusionMatrixDisplay\n",
        "\n",
        "# Loading data and batching\n",
        "from torch.utils.data import TensorDataset, DataLoader\n",
        "\n",
        "import matplotlib.pyplot as plt"
      ],
      "metadata": {
        "id": "ZoPXJAPZi4Gx"
      },
      "execution_count": 2,
      "outputs": []
    },
    {
      "cell_type": "code",
      "source": [
        "# Step 2: Load Iris dataset from seaborn (also available on Kaggle)\n",
        "data = sns.load_dataset('iris')  # shape (150, 5); includes 4 features + 1 species label\n",
        "print(data.head())  # Display first few rows\n",
        "\n",
        "# Step 2: Encode string labels into integers and normalize feature values\n",
        "label_encoder = LabelEncoder()\n",
        "data['species'] = label_encoder.fit_transform(data['species'])  # e.g., 'setosa' → 0, etc.\n",
        "\n",
        "X = data.drop('species', axis=1).values  # Extract features (shape: 150 x 4)\n",
        "y = data['species'].values               # Extract labels (0, 1, or 2)\n",
        "\n",
        "scaler = StandardScaler()                # Standardize features: zero mean, unit variance\n",
        "X = scaler.fit_transform(X)              # Apply normalization"
      ],
      "metadata": {
        "colab": {
          "base_uri": "https://localhost:8080/"
        },
        "id": "Zyy0E5q7j41Z",
        "outputId": "5ce651b3-0ee7-4153-f19e-f54391dccd57"
      },
      "execution_count": 3,
      "outputs": [
        {
          "output_type": "stream",
          "name": "stdout",
          "text": [
            "   sepal_length  sepal_width  petal_length  petal_width species\n",
            "0           5.1          3.5           1.4          0.2  setosa\n",
            "1           4.9          3.0           1.4          0.2  setosa\n",
            "2           4.7          3.2           1.3          0.2  setosa\n",
            "3           4.6          3.1           1.5          0.2  setosa\n",
            "4           5.0          3.6           1.4          0.2  setosa\n"
          ]
        }
      ]
    },
    {
      "cell_type": "code",
      "source": [
        "# Step 3: Split into train/test sets (80% train, 20% test)\n",
        "X_train, X_test, y_train, y_test = train_test_split(X, y, test_size=0.2, random_state=42)\n",
        "\n",
        "# Convert NumPy arrays to PyTorch tensors\n",
        "X_train_tensor = torch.tensor(X_train, dtype=torch.float32)\n",
        "y_train_tensor = torch.tensor(y_train, dtype=torch.long)\n",
        "X_test_tensor  = torch.tensor(X_test, dtype=torch.float32)\n",
        "y_test_tensor  = torch.tensor(y_test, dtype=torch.long)\n",
        "\n",
        "# Create PyTorch datasets and data loaders for batch processing\n",
        "train_dataset = TensorDataset(X_train_tensor, y_train_tensor)\n",
        "test_dataset = TensorDataset(X_test_tensor, y_test_tensor)\n",
        "train_loader = DataLoader(train_dataset, batch_size=16, shuffle=True)  # Shuffle during training\n",
        "test_loader  = DataLoader(test_dataset, batch_size=16)                 # No need to shuffle test set\n"
      ],
      "metadata": {
        "id": "9AhaUXghkL05"
      },
      "execution_count": 5,
      "outputs": []
    },
    {
      "cell_type": "markdown",
      "source": [
        "##  This is a 3-layer fully connected network:\n",
        "\n",
        "- Input: 4 features\n",
        "\n",
        "- Hidden layers: 16 → 8\n",
        "\n",
        "- Output: 3 classes"
      ],
      "metadata": {
        "id": "rpvimzlVkbkq"
      }
    },
    {
      "cell_type": "code",
      "source": [
        "# Step 4: Define Feedforward Neural Network for classification\n",
        "class IrisNet(nn.Module):\n",
        "    def __init__(self):\n",
        "        super().__init__()\n",
        "        self.fc1 = nn.Linear(4, 16)  # Input layer (4 features) → Hidden layer with 16 neurons\n",
        "        self.fc2 = nn.Linear(16, 8)  # Hidden layer → another smaller hidden layer\n",
        "        self.fc3 = nn.Linear(8, 3)   # Output layer: 3 neurons for 3 iris species\n",
        "\n",
        "    def forward(self, x):\n",
        "        x = F.relu(self.fc1(x))     # Apply ReLU activation after first layer\n",
        "        x = F.relu(self.fc2(x))     # Apply ReLU after second layer\n",
        "        return self.fc3(x)          # Final output logits (raw scores), no softmax needed\n"
      ],
      "metadata": {
        "id": "5aH7LX3ykS-5"
      },
      "execution_count": 4,
      "outputs": []
    },
    {
      "cell_type": "code",
      "source": [
        "# Step 5: Initialize model, loss function, and optimizer\n",
        "device = torch.device(\"cuda\" if torch.cuda.is_available() else \"cpu\")  # Use GPU if available\n",
        "model = IrisNet().to(device)                    # Move model to selected device\n",
        "criterion = nn.CrossEntropyLoss()               # Loss for multi-class classification\n",
        "optimizer = optim.Adam(model.parameters(), lr=0.01)  # Adam optimizer with learning rate 0.01"
      ],
      "metadata": {
        "id": "8bGoKMMvlP5r"
      },
      "execution_count": 6,
      "outputs": []
    },
    {
      "cell_type": "code",
      "source": [
        "# Step 6: Training loop\n",
        "epochs = 50  # Number of full passes through training data\n",
        "for epoch in range(epochs):\n",
        "    model.train()           # Set model to training mode\n",
        "    total_loss = 0          # Track total loss in this epoch\n",
        "\n",
        "    for X_batch, y_batch in train_loader:\n",
        "        X_batch, y_batch = X_batch.to(device), y_batch.to(device)  # Move data to GPU/CPU\n",
        "\n",
        "        optimizer.zero_grad()         # Clear previous gradients\n",
        "        outputs = model(X_batch)      # Forward pass: get predictions\n",
        "        loss = criterion(outputs, y_batch)  # Calculate loss\n",
        "        loss.backward()              # Backward pass: compute gradients\n",
        "        optimizer.step()             # Update model weights\n",
        "\n",
        "        total_loss += loss.item()    # Add current batch loss to total\n",
        "\n",
        "    print(f\"Epoch {epoch+1}/{epochs}, Loss: {total_loss:.4f}\")  # Show progress per epoch\n"
      ],
      "metadata": {
        "colab": {
          "base_uri": "https://localhost:8080/"
        },
        "id": "Z7T7s2qSlZix",
        "outputId": "9b3f3683-1c2f-440b-f4e5-91603936d717"
      },
      "execution_count": 8,
      "outputs": [
        {
          "output_type": "stream",
          "name": "stdout",
          "text": [
            "Epoch 1/50, Loss: 0.3391\n",
            "Epoch 2/50, Loss: 0.3498\n",
            "Epoch 3/50, Loss: 0.3005\n",
            "Epoch 4/50, Loss: 0.3658\n",
            "Epoch 5/50, Loss: 0.4365\n",
            "Epoch 6/50, Loss: 0.4106\n",
            "Epoch 7/50, Loss: 0.3807\n",
            "Epoch 8/50, Loss: 0.3730\n",
            "Epoch 9/50, Loss: 0.3578\n",
            "Epoch 10/50, Loss: 0.3644\n",
            "Epoch 11/50, Loss: 0.3282\n",
            "Epoch 12/50, Loss: 0.5150\n",
            "Epoch 13/50, Loss: 0.4269\n",
            "Epoch 14/50, Loss: 0.5576\n",
            "Epoch 15/50, Loss: 0.4902\n",
            "Epoch 16/50, Loss: 0.3132\n",
            "Epoch 17/50, Loss: 0.3487\n",
            "Epoch 18/50, Loss: 0.5995\n",
            "Epoch 19/50, Loss: 0.3242\n",
            "Epoch 20/50, Loss: 0.4034\n",
            "Epoch 21/50, Loss: 0.4334\n",
            "Epoch 22/50, Loss: 0.3175\n",
            "Epoch 23/50, Loss: 0.3457\n",
            "Epoch 24/50, Loss: 0.3094\n",
            "Epoch 25/50, Loss: 0.3134\n",
            "Epoch 26/50, Loss: 0.3762\n",
            "Epoch 27/50, Loss: 0.3510\n",
            "Epoch 28/50, Loss: 0.3258\n",
            "Epoch 29/50, Loss: 0.4080\n",
            "Epoch 30/50, Loss: 0.2976\n",
            "Epoch 31/50, Loss: 0.3730\n",
            "Epoch 32/50, Loss: 0.3311\n",
            "Epoch 33/50, Loss: 0.2938\n",
            "Epoch 34/50, Loss: 0.3961\n",
            "Epoch 35/50, Loss: 0.4045\n",
            "Epoch 36/50, Loss: 0.5606\n",
            "Epoch 37/50, Loss: 0.2900\n",
            "Epoch 38/50, Loss: 0.3108\n",
            "Epoch 39/50, Loss: 0.3312\n",
            "Epoch 40/50, Loss: 0.3089\n",
            "Epoch 41/50, Loss: 0.2911\n",
            "Epoch 42/50, Loss: 0.2758\n",
            "Epoch 43/50, Loss: 0.2787\n",
            "Epoch 44/50, Loss: 0.2789\n",
            "Epoch 45/50, Loss: 0.3151\n",
            "Epoch 46/50, Loss: 0.3069\n",
            "Epoch 47/50, Loss: 0.3726\n",
            "Epoch 48/50, Loss: 0.2727\n",
            "Epoch 49/50, Loss: 0.3296\n",
            "Epoch 50/50, Loss: 0.2825\n"
          ]
        }
      ]
    },
    {
      "cell_type": "code",
      "execution_count": 11,
      "metadata": {
        "colab": {
          "base_uri": "https://localhost:8080/"
        },
        "id": "ZkqRMQOWgs6K",
        "outputId": "00706c8f-32b5-462c-ebe1-8c5a9a1d34e2"
      },
      "outputs": [
        {
          "output_type": "stream",
          "name": "stdout",
          "text": [
            "Test Accuracy: 100.00%\n"
          ]
        }
      ],
      "source": [
        "# Step 7: Evaluate on test set\n",
        "model.eval()  # Switch to evaluation mode (disable dropout/batchnorm)\n",
        "correct = 0\n",
        "total = 0\n",
        "\n",
        "all_preds = []   # store predicted labels\n",
        "all_labels = []  # store true labels (this line was missing!)\n",
        "\n",
        "with torch.no_grad():  # Turn off gradient tracking for evaluation\n",
        "    for X_batch, y_batch in test_loader:\n",
        "        X_batch, y_batch = X_batch.to(device), y_batch.to(device)\n",
        "        outputs = model(X_batch)                 # Get predictions\n",
        "        _, predicted = torch.max(outputs.data, 1)  # Get index of max logit (class prediction)\n",
        "        total += y_batch.size(0)                   # Count total samples\n",
        "        correct += (predicted == y_batch).sum().item()  # Count correct predictions\n",
        "\n",
        "print(f\"Test Accuracy: {100 * correct / total:.2f}%\")  # Final accuracy on test set"
      ]
    },
    {
      "cell_type": "code",
      "source": [
        "# Step 8: Visualize confusion matrix\n",
        "cm = confusion_matrix(all_labels, all_preds, labels=[0, 1, 2])\n",
        "labels = label_encoder.classes_\n",
        "disp = ConfusionMatrixDisplay(confusion_matrix=cm, display_labels=labels)\n",
        "disp.plot(cmap='Blues')\n",
        "plt.title(\"Confusion Matrix: Iris Classification\")\n",
        "plt.show()\n"
      ],
      "metadata": {
        "colab": {
          "base_uri": "https://localhost:8080/",
          "height": 472
        },
        "id": "KCcKSzOKidSK",
        "outputId": "cb7c324d-e9d6-4e3c-8fe6-dbe3b216b808"
      },
      "execution_count": 13,
      "outputs": [
        {
          "output_type": "display_data",
          "data": {
            "text/plain": [
              "<Figure size 640x480 with 2 Axes>"
            ],
            "image/png": "[encoded data removed]"
          },
          "metadata": {}
        }
      ]
    },
    {
      "cell_type": "code",
      "source": [],
      "metadata": {
        "id": "EjDoBIn9l9cX"
      },
      "execution_count": null,
      "outputs": []
    }
  ]
}