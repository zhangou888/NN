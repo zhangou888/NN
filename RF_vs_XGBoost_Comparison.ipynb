{
  "cells": [
    {
      "cell_type": "markdown",
      "metadata": {
        "id": "view-in-github",
        "colab_type": "text"
      },
      "source": [
        "<a href=\"https://colab.research.google.com/github/zhangou888/NN/blob/main/RF_vs_XGBoost_Comparison.ipynb\" target=\"_parent\"><img src=\"https://colab.research.google.com/assets/colab-badge.svg\" alt=\"Open In Colab\"/></a>"
      ]
    },
    {
      "cell_type": "markdown",
      "metadata": {
        "id": "bNwum-M-obFm"
      },
      "source": [
        "# 🌲 Random Forest vs ⚡ XGBoost\n",
        "Comparison on a synthetic noisy, nonlinear, imbalanced dataset"
      ],
      "id": "bNwum-M-obFm"
    },
    {
      "cell_type": "code",
      "execution_count": 1,
      "metadata": {
        "id": "KSFOddgNobFn"
      },
      "outputs": [],
      "source": [
        "!pip install xgboost --quiet"
      ],
      "id": "KSFOddgNobFn"
    },
    {
      "cell_type": "code",
      "execution_count": 2,
      "metadata": {
        "id": "8Z7u4bSGobFo"
      },
      "outputs": [],
      "source": [
        "from sklearn.datasets import make_classification\n",
        "from sklearn.ensemble import RandomForestClassifier\n",
        "from xgboost import XGBClassifier\n",
        "from sklearn.model_selection import train_test_split\n",
        "from sklearn.metrics import classification_report, accuracy_score\n",
        "import matplotlib.pyplot as plt\n",
        "import numpy as np"
      ],
      "id": "8Z7u4bSGobFo"
    },
    {
      "cell_type": "code",
      "execution_count": 17,
      "metadata": {
        "id": "JZJWBucvobFo"
      },
      "outputs": [],
      "source": [
        "# Generate synthetic noisy imbalanced data\n",
        "X, y = make_classification(n_samples=1000,\n",
        "                           n_features=20,\n",
        "                           n_informative=8, # real meaningful features.\n",
        "                           n_redundant=2,   # real redundant features (with meaningful feature).\n",
        "                           n_clusters_per_class=2, # cluster per class (each class has 2 clusters)\n",
        "                           weights=[0.7, 0.3],\n",
        "                           flip_y=0.1,           # Noise ratio\n",
        "                           class_sep=0.8,        # Separation between clusters\n",
        "                           random_state=42)\n",
        "\n",
        "X_train, X_test, y_train, y_test = train_test_split(X, y, test_size=0.3, stratify=y, random_state=42)"
      ],
      "id": "JZJWBucvobFo"
    },
    {
      "cell_type": "code",
      "execution_count": 18,
      "metadata": {
        "id": "G2WdkIgdobFp"
      },
      "outputs": [],
      "source": [
        "# Train Random Forest\n",
        "rf = RandomForestClassifier(n_estimators=50, random_state=42)\n",
        "rf.fit(X_train, y_train)\n",
        "y_pred_rf = rf.predict(X_test)"
      ],
      "id": "G2WdkIgdobFp"
    },
    {
      "cell_type": "code",
      "execution_count": 19,
      "metadata": {
        "colab": {
          "base_uri": "https://localhost:8080/"
        },
        "id": "4mEGXrcNobFp",
        "outputId": "1f14fedc-17cf-4bdf-fa83-feac699d333c"
      },
      "outputs": [
        {
          "output_type": "stream",
          "name": "stderr",
          "text": [
            "/usr/local/lib/python3.11/dist-packages/xgboost/core.py:158: UserWarning: [03:57:21] WARNING: /workspace/src/learner.cc:740: \n",
            "Parameters: { \"use_label_encoder\" } are not used.\n",
            "\n",
            "  warnings.warn(smsg, UserWarning)\n"
          ]
        }
      ],
      "source": [
        "# Train XGBoost (with small number of estimators for speed)\n",
        "xgb = XGBClassifier(n_estimators=30, max_depth=6, learning_rate=0.1,\n",
        "                    scale_pos_weight=0.7/0.3,\n",
        "                    use_label_encoder=False,\n",
        "                    eval_metric='logloss', random_state=42)\n",
        "xgb.fit(X_train, y_train)\n",
        "y_pred_xgb = xgb.predict(X_test)"
      ],
      "id": "4mEGXrcNobFp"
    },
    {
      "cell_type": "code",
      "execution_count": 20,
      "metadata": {
        "colab": {
          "base_uri": "https://localhost:8080/"
        },
        "id": "KXaLAdjcobFp",
        "outputId": "33d80786-fedd-4cfc-b046-a6042e23dcad"
      },
      "outputs": [
        {
          "output_type": "stream",
          "name": "stdout",
          "text": [
            "Random Forest Accuracy: 0.7833333333333333\n",
            "XGBoost Accuracy: 0.7866666666666666\n"
          ]
        }
      ],
      "source": [
        "# Accuracy comparison\n",
        "acc_rf = accuracy_score(y_test, y_pred_rf)\n",
        "acc_xgb = accuracy_score(y_test, y_pred_xgb)\n",
        "print(\"Random Forest Accuracy:\", acc_rf)\n",
        "print(\"XGBoost Accuracy:\", acc_xgb)"
      ],
      "id": "KXaLAdjcobFp"
    },
    {
      "cell_type": "code",
      "execution_count": 21,
      "metadata": {
        "id": "nRXoPzuHobFq"
      },
      "outputs": [],
      "source": [
        "# Classification report F1 extraction\n",
        "report_rf = classification_report(y_test, y_pred_rf, output_dict=True)\n",
        "report_xgb = classification_report(y_test, y_pred_xgb, output_dict=True)\n",
        "rf_f1 = [report_rf[str(i)]['f1-score'] for i in range(2)]\n",
        "xgb_f1 = [report_xgb[str(i)]['f1-score'] for i in range(2)]"
      ],
      "id": "nRXoPzuHobFq"
    },
    {
      "cell_type": "code",
      "execution_count": 22,
      "metadata": {
        "colab": {
          "base_uri": "https://localhost:8080/",
          "height": 607
        },
        "id": "-zQprBPUobFq",
        "outputId": "6bef15bc-cb29-4f8c-dfcc-921773a6e74f"
      },
      "outputs": [
        {
          "output_type": "display_data",
          "data": {
            "text/plain": [
              "<Figure size 800x600 with 1 Axes>"
            ],
            "image/png": "[encoded data removed]"
          },
          "metadata": {}
        }
      ],
      "source": [
        "# Plot F1 score comparison\n",
        "labels = ['Class 0', 'Class 1']\n",
        "x = np.arange(len(labels))\n",
        "width = 0.35\n",
        "plt.figure(figsize=(8, 6))\n",
        "plt.bar(x, rf_f1, width=width, label='Random Forest', alpha=0.7)\n",
        "plt.bar(x + width, xgb_f1, width=width, label='XGBoost', alpha=0.7)\n",
        "plt.xticks(x + width / 2, labels)\n",
        "plt.xlabel(\"Class\")\n",
        "plt.ylabel(\"F1 Score\")\n",
        "plt.title(\"F1 Score Comparison on Noisy Imbalanced Data\")\n",
        "plt.legend()\n",
        "plt.tight_layout()\n",
        "plt.show()"
      ],
      "id": "-zQprBPUobFq"
    },
    {
      "cell_type": "code",
      "source": [],
      "metadata": {
        "id": "rBAhkTqmp9Io"
      },
      "id": "rBAhkTqmp9Io",
      "execution_count": null,
      "outputs": []
    }
  ],
  "metadata": {
    "kernelspec": {
      "display_name": "Python 3",
      "language": "python",
      "name": "python3"
    },
    "language_info": {
      "name": "python"
    },
    "colab": {
      "provenance": [],
      "include_colab_link": true
    }
  },
  "nbformat": 4,
  "nbformat_minor": 5
}