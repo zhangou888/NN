{
 "cells": [
  {
   "cell_type": "markdown",
   "metadata": {},
   "source": [
    "# \ud83c\udf32 Random Forest vs \u26a1 XGBoost\n",
    "Comparison on a synthetic noisy, nonlinear, imbalanced dataset"
   ]
  },
  {
   "cell_type": "code",
   "execution_count": null,
   "metadata": {},
   "outputs": [],
   "source": [
    "!pip install xgboost --quiet"
   ]
  },
  {
   "cell_type": "code",
   "execution_count": null,
   "metadata": {},
   "outputs": [],
   "source": [
    "from sklearn.datasets import make_classification\n",
    "from sklearn.ensemble import RandomForestClassifier\n",
    "from xgboost import XGBClassifier\n",
    "from sklearn.model_selection import train_test_split\n",
    "from sklearn.metrics import classification_report, accuracy_score\n",
    "import matplotlib.pyplot as plt\n",
    "import numpy as np"
   ]
  },
  {
   "cell_type": "code",
   "execution_count": null,
   "metadata": {},
   "outputs": [],
   "source": [
    "# \ud83e\uddea Generate synthetic noisy imbalanced data\n",
    "X, y = make_classification(\n",
    "    n_samples=1000, n_features=20, n_informative=8, n_redundant=2,\n",
    "    n_clusters_per_class=2, weights=[0.7, 0.3], flip_y=0.1,\n",
    "    class_sep=0.8, random_state=42\n",
    ")\n",
    "X_train, X_test, y_train, y_test = train_test_split(\n",
    "    X, y, test_size=0.3, stratify=y, random_state=42\n",
    ")"
   ]
  },
  {
   "cell_type": "code",
   "execution_count": null,
   "metadata": {},
   "outputs": [],
   "source": [
    "# \ud83c\udfb2 Train Random Forest\n",
    "rf = RandomForestClassifier(n_estimators=50, random_state=42)\n",
    "rf.fit(X_train, y_train)\n",
    "y_pred_rf = rf.predict(X_test)"
   ]
  },
  {
   "cell_type": "code",
   "execution_count": null,
   "metadata": {},
   "outputs": [],
   "source": [
    "# \u26a1 Train XGBoost (with small number of estimators for speed)\n",
    "xgb = XGBClassifier(n_estimators=30, max_depth=3, learning_rate=0.1,\n",
    "                    use_label_encoder=False, eval_metric='logloss', random_state=42)\n",
    "xgb.fit(X_train, y_train)\n",
    "y_pred_xgb = xgb.predict(X_test)"
   ]
  },
  {
   "cell_type": "code",
   "execution_count": null,
   "metadata": {},
   "outputs": [],
   "source": [
    "# \ud83c\udfaf Accuracy comparison\n",
    "acc_rf = accuracy_score(y_test, y_pred_rf)\n",
    "acc_xgb = accuracy_score(y_test, y_pred_xgb)\n",
    "print(\"Random Forest Accuracy:\", acc_rf)\n",
    "print(\"XGBoost Accuracy:\", acc_xgb)"
   ]
  },
  {
   "cell_type": "code",
   "execution_count": null,
   "metadata": {},
   "outputs": [],
   "source": [
    "# \ud83d\udcca Classification report F1 extraction\n",
    "report_rf = classification_report(y_test, y_pred_rf, output_dict=True)\n",
    "report_xgb = classification_report(y_test, y_pred_xgb, output_dict=True)\n",
    "rf_f1 = [report_rf[str(i)]['f1-score'] for i in range(2)]\n",
    "xgb_f1 = [report_xgb[str(i)]['f1-score'] for i in range(2)]"
   ]
  },
  {
   "cell_type": "code",
   "execution_count": null,
   "metadata": {},
   "outputs": [],
   "source": [
    "# \ud83d\udcc8 Plot F1 score comparison\n",
    "labels = ['Class 0', 'Class 1']\n",
    "x = np.arange(len(labels))\n",
    "width = 0.35\n",
    "plt.figure(figsize=(8, 6))\n",
    "plt.bar(x, rf_f1, width=width, label='Random Forest', alpha=0.7)\n",
    "plt.bar(x + width, xgb_f1, width=width, label='XGBoost', alpha=0.7)\n",
    "plt.xticks(x + width / 2, labels)\n",
    "plt.xlabel(\"Class\")\n",
    "plt.ylabel(\"F1 Score\")\n",
    "plt.title(\"F1 Score Comparison on Noisy Imbalanced Data\")\n",
    "plt.legend()\n",
    "plt.tight_layout()\n",
    "plt.show()"
   ]
  }
 ],
 "metadata": {
  "kernelspec": {
   "display_name": "Python 3",
   "language": "python",
   "name": "python3"
  },
  "language_info": {
   "name": "python"
  }
 },
 "nbformat": 4,
 "nbformat_minor": 5
}