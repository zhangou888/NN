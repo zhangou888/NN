{
  "nbformat": 4,
  "nbformat_minor": 0,
  "metadata": {
    "colab": {
      "provenance": [],
      "gpuType": "T4",
      "authorship_tag": "ABX9TyMWyc1JbkCYMbggj1/6CuK1",
      "include_colab_link": true
    },
    "kernelspec": {
      "name": "python3",
      "display_name": "Python 3"
    },
    "language_info": {
      "name": "python"
    },
    "accelerator": "GPU"
  },
  "cells": [
    {
      "cell_type": "markdown",
      "metadata": {
        "id": "view-in-github",
        "colab_type": "text"
      },
      "source": [
        "<a href=\"https://colab.research.google.com/github/zhangou888/NN/blob/main/Full%20code_80_10_10_customized_NN_code.ipynb\" target=\"_parent\"><img src=\"https://colab.research.google.com/assets/colab-badge.svg\" alt=\"Open In Colab\"/></a>"
      ]
    },
    {
      "cell_type": "markdown",
      "source": [
        "# Full Code with 80/10/10 Custom Split for Neural Network using PyTorch\n",
        "\n",
        "## Summary of Key Changes:\n",
        "- Custom 80/10/10 split: Replaces the built-in test set with split from full dataset\n",
        "- random_split : used\tEnsures samples are randomized and balanced\n",
        "- Test Evaluation:\tNow runs on new held-out 10% test split"
      ],
      "metadata": {
        "id": "APClgpzXNYWN"
      }
    },
    {
      "cell_type": "code",
      "source": [
        "import torch\n",
        "import torch.nn as nn\n",
        "import torch.nn.functional as F\n",
        "import torch.optim as optim\n",
        "from torchvision import datasets, transforms\n",
        "from torch.utils.data import DataLoader, random_split\n",
        "import matplotlib.pyplot as plt"
      ],
      "metadata": {
        "id": "di4AefZOO6YR"
      },
      "execution_count": 1,
      "outputs": []
    },
    {
      "cell_type": "code",
      "execution_count": 8,
      "metadata": {
        "id": "4kAeAuIkNWHW",
        "colab": {
          "base_uri": "https://localhost:8080/"
        },
        "outputId": "989ebafb-5b4c-4cef-fbb0-41def13b7510"
      },
      "outputs": [
        {
          "output_type": "stream",
          "name": "stdout",
          "text": [
            "Using device: cuda\n"
          ]
        }
      ],
      "source": [
        "# Step 1: Set device - use GPU if available, else fallback to CPU\n",
        "device = torch.device(\"cuda\" if torch.cuda.is_available() else \"cpu\")\n",
        "print(\"Using device:\", device)"
      ]
    },
    {
      "cell_type": "code",
      "source": [
        "# Step 2: Define a simple CNN model\n",
        "class CNN(nn.Module):\n",
        "    def __init__(self):\n",
        "        super(CNN, self).__init__()\n",
        "        self.conv1 = nn.Conv2d(1, 16, kernel_size=3, padding=1)  # 1 input channel (grayscale), 16 output channels\n",
        "        self.conv2 = nn.Conv2d(16, 32, kernel_size=3, padding=1) # 16 input channels, 32 output channels\n",
        "        self.pool = nn.MaxPool2d(2, 2)                            # 2x2 max pooling\n",
        "        self.fc1 = nn.Linear(32 * 7 * 7, 128)                     # Fully connected layer\n",
        "        self.fc2 = nn.Linear(128, 10)                             # Output layer for 10 classes (digits 0-9)\n",
        "\n",
        "    def forward(self, x):\n",
        "        x = self.pool(F.relu(self.conv1(x)))\n",
        "        x = self.pool(F.relu(self.conv2(x)))\n",
        "        x = x.view(-1, 32 * 7 * 7)  # Flatten the tensor for the fully connected layers\n",
        "        x = F.relu(self.fc1(x))\n",
        "        return self.fc2(x)          # No softmax needed; CrossEntropyLoss handles it"
      ],
      "metadata": {
        "id": "DeWrcYSZN1OS"
      },
      "execution_count": 9,
      "outputs": []
    },
    {
      "cell_type": "code",
      "source": [
        "# Step 3: Load and transform data\n",
        "transform = transforms.ToTensor()  # Convert images to tensor format\n",
        "\n",
        "# Download full MNIST training set (60,000 samples)\n",
        "full_dataset = datasets.MNIST(root='./data', train=True, download=True, transform=transform)"
      ],
      "metadata": {
        "id": "_HqrqaAselaY"
      },
      "execution_count": 10,
      "outputs": []
    },
    {
      "cell_type": "code",
      "source": [
        "# Step 4: Create custom 80/10/10 split for train/val/test\n",
        "train_size = int(0.8 * len(full_dataset))       # 48,000 samples for training\n",
        "val_size = int(0.1 * len(full_dataset))         # 6,000 samples for validation\n",
        "test_size = len(full_dataset) - train_size - val_size  # Remaining 6,000 samples for testing\n",
        "\n",
        "# Randomly split the dataset\n",
        "train_data, val_data, test_data = random_split(full_dataset, [train_size, val_size, test_size])"
      ],
      "metadata": {
        "id": "KsrKRJhTN3pR"
      },
      "execution_count": 5,
      "outputs": []
    },
    {
      "cell_type": "code",
      "source": [
        "# Step 5: Create data loaders for batching\n",
        "train_loader = DataLoader(train_data, batch_size=64, shuffle=True)\n",
        "val_loader = DataLoader(val_data, batch_size=1000)\n",
        "test_loader = DataLoader(test_data, batch_size=1000)"
      ],
      "metadata": {
        "id": "X8VqvK8QN7UU"
      },
      "execution_count": 11,
      "outputs": []
    },
    {
      "cell_type": "code",
      "source": [
        "# Step 6: Initialize model, loss function, optimizer\n",
        "model = CNN().to(device)                              # Move model to GPU/CPU\n",
        "tcriterion = nn.CrossEntropyLoss()                    # Suitable for classification\n",
        "optimizer = optim.Adam(model.parameters(), lr=0.001)  # Adam optimizer with learning rate 0.001\n"
      ],
      "metadata": {
        "id": "rmYZBOCGe0jb"
      },
      "execution_count": 12,
      "outputs": []
    },
    {
      "cell_type": "code",
      "source": [
        "# Step 7: Training loop\n",
        "epochs = 5\n",
        "for epoch in range(epochs):\n",
        "    model.train()                                  # Set model to training mode\n",
        "    total_train_loss = 0                           # Track total loss for the epoch\n",
        "\n",
        "    for images, labels in train_loader:\n",
        "        images, labels = images.to(device), labels.to(device)\n",
        "\n",
        "        optimizer.zero_grad()                      # Step 1: Clear previous gradients\n",
        "        outputs = model(images)                    # Step 2: Forward pass\n",
        "        loss = tcriterion(outputs, labels)         # Step 3: Compute loss\n",
        "        loss.backward()                            # Step 4: Backward pass (calculate gradients)\n",
        "        optimizer.step()                           # Step 5: Update weights\n",
        "\n",
        "        total_train_loss += loss.item()            # Accumulate batch loss\n",
        "\n",
        "    # Step 8: Validation step\n",
        "    model.eval()                                   # Set model to evaluation mode\n",
        "    total_val_loss = 0\n",
        "    correct = 0\n",
        "    total = 0\n",
        "\n",
        "    with torch.no_grad():                          # Disable gradient tracking\n",
        "        for images, labels in val_loader:\n",
        "            images, labels = images.to(device), labels.to(device)\n",
        "            outputs = model(images)\n",
        "            loss = tcriterion(outputs, labels)\n",
        "            total_val_loss += loss.item()\n",
        "            _, predicted = torch.max(outputs.data, 1)\n",
        "            total += labels.size(0)\n",
        "            correct += (predicted == labels).sum().item()\n",
        "\n",
        "    val_acc = 100 * correct / total\n",
        "    print(f\"Epoch {epoch+1}/{epochs}, Train Loss: {total_train_loss:.4f}, Val Loss: {total_val_loss:.4f}, Val Acc: {val_acc:.2f}%\")\n"
      ],
      "metadata": {
        "id": "HDx-ktacN9u_",
        "colab": {
          "base_uri": "https://localhost:8080/"
        },
        "outputId": "4fc9fba0-e146-478f-8bf1-62b837f7d124"
      },
      "execution_count": 18,
      "outputs": [
        {
          "output_type": "stream",
          "name": "stdout",
          "text": [
            "Epoch 1/5, Train Loss: 51.0098, Val Loss: 0.3526, Val Acc: 98.28%\n",
            "Epoch 2/5, Train Loss: 36.2400, Val Loss: 0.2910, Val Acc: 98.52%\n",
            "Epoch 3/5, Train Loss: 26.2471, Val Loss: 0.2072, Val Acc: 98.87%\n",
            "Epoch 4/5, Train Loss: 20.3783, Val Loss: 0.2292, Val Acc: 98.88%\n",
            "Epoch 5/5, Train Loss: 16.6429, Val Loss: 0.2938, Val Acc: 98.65%\n"
          ]
        }
      ]
    },
    {
      "cell_type": "code",
      "source": [
        "# Step 9: Final test evaluation\n",
        "model.eval()\n",
        "correct = 0\n",
        "total = 0\n",
        "all_preds = []\n",
        "all_images = []\n",
        "\n",
        "with torch.no_grad():\n",
        "    for images, labels in test_loader:\n",
        "        images, labels = images.to(device), labels.to(device)\n",
        "        outputs = model(images)\n",
        "        _, predicted = torch.max(outputs.data, 1)\n",
        "        correct += (predicted == labels).sum().item()\n",
        "        total += labels.size(0)\n",
        "        all_preds.extend(predicted.cpu().numpy())\n",
        "        all_images.extend(images.cpu().numpy())\n",
        "\n",
        "print(f\"Test Accuracy on held-out test set: {100 * correct / total:.2f}%\")"
      ],
      "metadata": {
        "id": "LgLH3hflOAX7",
        "colab": {
          "base_uri": "https://localhost:8080/"
        },
        "outputId": "fa843d41-2f59-49b9-987a-120048db3dab"
      },
      "execution_count": 19,
      "outputs": [
        {
          "output_type": "stream",
          "name": "stdout",
          "text": [
            "Test Accuracy on held-out test set: 98.57%\n"
          ]
        }
      ]
    },
    {
      "cell_type": "code",
      "source": [
        " # Step 10: Save the trained model\n",
        "torch.save(model.state_dict(), \"mnist_cnn_80_10_10.pth\")\n",
        "print(\"Model saved as mnist_cnn_80_10_10.pth\")"
      ],
      "metadata": {
        "colab": {
          "base_uri": "https://localhost:8080/"
        },
        "id": "VUro5YlpfIFH",
        "outputId": "1551be7e-0c8b-48b7-fdb7-854513ec4844"
      },
      "execution_count": 20,
      "outputs": [
        {
          "output_type": "stream",
          "name": "stdout",
          "text": [
            "Model saved as mnist_cnn_80_10_10.pth\n"
          ]
        }
      ]
    },
    {
      "cell_type": "code",
      "source": [
        "# Step 11: Show sample predictions\n",
        "def show_predictions(images, preds, n=6):\n",
        "    plt.figure(figsize=(12, 2))\n",
        "    for i in range(n):\n",
        "        plt.subplot(1, n, i+1)\n",
        "        plt.imshow(images[i].squeeze(), cmap=\"gray\")\n",
        "        plt.title(f\"Pred: {preds[i]}\")\n",
        "        plt.axis(\"off\")\n",
        "    plt.show()\n",
        "\n",
        "show_predictions(all_images, all_preds)"
      ],
      "metadata": {
        "id": "ceiJ0dyXOChn",
        "colab": {
          "base_uri": "https://localhost:8080/",
          "height": 192
        },
        "outputId": "ac24f499-7e78-4522-9c39-2794d9736a97"
      },
      "execution_count": 21,
      "outputs": [
        {
          "output_type": "display_data",
          "data": {
            "text/plain": [
              "<Figure size 1200x200 with 6 Axes>"
            ],
            "image/png": "[encoded data removed]"
          },
          "metadata": {}
        }
      ]
    },
    {
      "cell_type": "code",
      "source": [],
      "metadata": {
        "id": "mdL6quvbgL97"
      },
      "execution_count": null,
      "outputs": []
    }
  ]
}