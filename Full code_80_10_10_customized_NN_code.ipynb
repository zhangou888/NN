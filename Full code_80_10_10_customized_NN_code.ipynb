{
  "nbformat": 4,
  "nbformat_minor": 0,
  "metadata": {
    "colab": {
      "provenance": [],
      "authorship_tag": "ABX9TyOupB1dD6VPoMctS9Kp+FNE",
      "include_colab_link": true
    },
    "kernelspec": {
      "name": "python3",
      "display_name": "Python 3"
    },
    "language_info": {
      "name": "python"
    }
  },
  "cells": [
    {
      "cell_type": "markdown",
      "metadata": {
        "id": "view-in-github",
        "colab_type": "text"
      },
      "source": [
        "<a href=\"https://colab.research.google.com/github/zhangou888/NN/blob/main/Full%20code_80_10_10_customized_NN_code.ipynb\" target=\"_parent\"><img src=\"https://colab.research.google.com/assets/colab-badge.svg\" alt=\"Open In Colab\"/></a>"
      ]
    },
    {
      "cell_type": "markdown",
      "source": [
        "# Full Code with 80/10/10 Custom Split for Neural Network using PyTorch\n",
        "\n",
        "## Summary of Key Changes:\n",
        "- Custom 80/10/10 split: Replaces the built-in test set with split from full dataset\n",
        "- random_split : used\tEnsures samples are randomized and balanced\n",
        "- Test Evaluation:\tNow runs on new held-out 10% test split"
      ],
      "metadata": {
        "id": "APClgpzXNYWN"
      }
    },
    {
      "cell_type": "code",
      "source": [
        "import torch\n",
        "import torch.nn as nn\n",
        "import torch.nn.functional as F\n",
        "import torch.optim as optim\n",
        "from torchvision import datasets, transforms\n",
        "from torch.utils.data import DataLoader, random_split\n",
        "import matplotlib.pyplot as plt"
      ],
      "metadata": {
        "id": "di4AefZOO6YR"
      },
      "execution_count": 2,
      "outputs": []
    },
    {
      "cell_type": "code",
      "execution_count": 3,
      "metadata": {
        "id": "4kAeAuIkNWHW",
        "colab": {
          "base_uri": "https://localhost:8080/"
        },
        "outputId": "603b11cd-e556-4642-91ae-8b2ebde52c2c"
      },
      "outputs": [
        {
          "output_type": "stream",
          "name": "stdout",
          "text": [
            "Using device: cpu\n"
          ]
        }
      ],
      "source": [
        "# Step 2: Set device\n",
        "device = torch.device(\"cuda\" if torch.cuda.is_available() else \"cpu\")\n",
        "print(\"Using device:\", device)"
      ]
    },
    {
      "cell_type": "code",
      "source": [
        "# Step 3: Define CNN\n",
        "class CNN(nn.Module):\n",
        "    def __init__(self):\n",
        "        super(CNN, self).__init__()\n",
        "        self.conv1 = nn.Conv2d(1, 16, kernel_size=3, padding=1)\n",
        "        self.conv2 = nn.Conv2d(16, 32, kernel_size=3, padding=1)\n",
        "        self.pool = nn.MaxPool2d(2, 2)\n",
        "        self.fc1 = nn.Linear(32 * 7 * 7, 128)\n",
        "        self.fc2 = nn.Linear(128, 10)\n",
        "\n",
        "    def forward(self, x):\n",
        "        x = self.pool(F.relu(self.conv1(x)))\n",
        "        x = self.pool(F.relu(self.conv2(x)))\n",
        "        x = x.view(-1, 32 * 7 * 7)\n",
        "        x = F.relu(self.fc1(x))\n",
        "        return self.fc2(x)"
      ],
      "metadata": {
        "id": "DeWrcYSZN1OS"
      },
      "execution_count": 4,
      "outputs": []
    },
    {
      "cell_type": "code",
      "source": [
        "# Step 4: Load MNIST and create 80/10/10 split from the full train set\n",
        "transform = transforms.ToTensor()\n",
        "full_dataset = datasets.MNIST(root='./data', train=True, download=True, transform=transform)\n",
        "\n",
        "total_size = len(full_dataset)  # 60,000\n",
        "train_size = int(0.8 * total_size)              # 48,000\n",
        "val_size = int(0.1 * total_size)                # 6,000\n",
        "test_size = total_size - train_size - val_size  # 6,000\n",
        "\n",
        "train_data, val_data, test_data = random_split(full_dataset, [train_size, val_size, test_size])\n",
        "\n",
        "train_loader = DataLoader(train_data, batch_size=64, shuffle=True)\n",
        "val_loader = DataLoader(val_data, batch_size=1000)\n",
        "test_loader = DataLoader(test_data, batch_size=1000)\n"
      ],
      "metadata": {
        "id": "KsrKRJhTN3pR",
        "colab": {
          "base_uri": "https://localhost:8080/"
        },
        "outputId": "9bfa7752-ded6-46cc-9a9e-6634d84d8a8a"
      },
      "execution_count": 5,
      "outputs": [
        {
          "output_type": "stream",
          "name": "stderr",
          "text": [
            "100%|██████████| 9.91M/9.91M [00:00<00:00, 138MB/s]\n",
            "100%|██████████| 28.9k/28.9k [00:00<00:00, 31.2MB/s]\n",
            "100%|██████████| 1.65M/1.65M [00:00<00:00, 91.4MB/s]\n",
            "100%|██████████| 4.54k/4.54k [00:00<00:00, 8.01MB/s]\n"
          ]
        }
      ]
    },
    {
      "cell_type": "code",
      "source": [
        "# Step 5: Initialize model\n",
        "model = CNN().to(device)\n",
        "criterion = nn.CrossEntropyLoss()\n",
        "optimizer = optim.Adam(model.parameters(), lr=0.001)"
      ],
      "metadata": {
        "id": "X8VqvK8QN7UU"
      },
      "execution_count": 6,
      "outputs": []
    },
    {
      "cell_type": "code",
      "source": [
        "# Step 6: Training with validation\n",
        "epochs = 5\n",
        "for epoch in range(epochs):\n",
        "    model.train()\n",
        "    total_train_loss = 0\n",
        "    for images, labels in train_loader:\n",
        "        images, labels = images.to(device), labels.to(device)\n",
        "\n",
        "        optimizer.zero_grad()\n",
        "        outputs = model(images)\n",
        "        loss = criterion(outputs, labels)\n",
        "        loss.backward()\n",
        "        optimizer.step()\n",
        "\n",
        "        total_train_loss += loss.item()\n",
        "\n",
        "    # Validation\n",
        "    model.eval()\n",
        "    total_val_loss = 0\n",
        "    correct = 0\n",
        "    total = 0\n",
        "    with torch.no_grad():\n",
        "        for images, labels in val_loader:\n",
        "            images, labels = images.to(device), labels.to(device)\n",
        "            outputs = model(images)\n",
        "            loss = criterion(outputs, labels)\n",
        "            total_val_loss += loss.item()\n",
        "            _, predicted = torch.max(outputs.data, 1)\n",
        "            correct += (predicted == labels).sum().item()\n",
        "            total += labels.size(0)\n",
        "\n",
        "    val_acc = 100 * correct / total\n",
        "    print(f\"Epoch {epoch+1} | Train Loss: {total_train_loss:.4f} | Val Loss: {total_val_loss:.4f} | Val Acc: {val_acc:.2f}%\")\n"
      ],
      "metadata": {
        "id": "HDx-ktacN9u_"
      },
      "execution_count": null,
      "outputs": []
    },
    {
      "cell_type": "code",
      "source": [
        "# Step 7: Final test evaluation (on held-out test split)\n",
        "model.eval()\n",
        "correct = 0\n",
        "total = 0\n",
        "all_preds = []\n",
        "all_images = []\n",
        "with torch.no_grad():\n",
        "    for images, labels in test_loader:\n",
        "        images, labels = images.to(device), labels.to(device)\n",
        "        outputs = model(images)\n",
        "        _, predicted = torch.max(outputs.data, 1)\n",
        "        correct += (predicted == labels).sum().item()\n",
        "        total += labels.size(0)\n",
        "        all_preds.extend(predicted.cpu().numpy())\n",
        "        all_images.extend(images.cpu().numpy())\n",
        "\n",
        "print(f\"Test Accuracy on held-out test set: {100 * correct / total:.2f}%\")"
      ],
      "metadata": {
        "id": "LgLH3hflOAX7"
      },
      "execution_count": null,
      "outputs": []
    },
    {
      "cell_type": "code",
      "source": [
        "# Step 8: Save model\n",
        "torch.save(model.state_dict(), \"mnist_cnn_80_10_10.pth\")\n",
        "print(\"Model saved as mnist_cnn_80_10_10.pth\")\n",
        "\n",
        "# Step 9: Reload model (optional)\n",
        "model_loaded = CNN().to(device)\n",
        "model_loaded.load_state_dict(torch.load(\"mnist_cnn_80_10_10.pth\"))\n",
        "model_loaded.eval()"
      ],
      "metadata": {
        "id": "ceiJ0dyXOChn"
      },
      "execution_count": null,
      "outputs": []
    },
    {
      "cell_type": "code",
      "source": [
        "# Step 10: Show predictions\n",
        "def show_predictions(images, preds, n=6):\n",
        "    plt.figure(figsize=(12, 2))\n",
        "    for i in range(n):\n",
        "        plt.subplot(1, n, i+1)\n",
        "        plt.imshow(images[i].squeeze(), cmap=\"gray\")\n",
        "        plt.title(f\"Pred: {preds[i]}\")\n",
        "        plt.axis(\"off\")\n",
        "    plt.show()\n",
        "\n",
        "show_predictions(all_images, all_preds)"
      ],
      "metadata": {
        "id": "XuXpXYSMOF2f"
      },
      "execution_count": null,
      "outputs": []
    }
  ]
}